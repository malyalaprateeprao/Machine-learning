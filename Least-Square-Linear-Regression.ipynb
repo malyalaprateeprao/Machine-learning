{
 "cells": [
  {
   "cell_type": "code",
   "execution_count": 6,
   "id": "b9343424",
   "metadata": {},
   "outputs": [],
   "source": [
    "import numpy as np\n",
    "import pandas as pd\n",
    "import matplotlib.pyplot as plt"
   ]
  },
  {
   "cell_type": "code",
   "execution_count": 32,
   "id": "8acb806a",
   "metadata": {},
   "outputs": [
    {
     "name": "stdout",
     "output_type": "stream",
     "text": [
      "2.5\n"
     ]
    }
   ],
   "source": [
    "data = {\n",
    "    'X1': [0, 0, 1, 1],\n",
    "    'X2': [0, 1, 0, 1],\n",
    "    'Y': [0.0, 1.5, 2.0, 2.5]\n",
    "}\n",
    "\n",
    "df = pd.DataFrame(data,columns=['X1','X2','Y'])\n",
    "print (df['Y'][3])"
   ]
  },
  {
   "cell_type": "code",
   "execution_count": 33,
   "id": "55f78c3e",
   "metadata": {},
   "outputs": [
    {
     "name": "stdout",
     "output_type": "stream",
     "text": [
      "a= 0.25 b= 1.5 c= 1.0\n"
     ]
    }
   ],
   "source": [
    "# Using least squares linear regression to find 0o, 01, 02 from scratch\n",
    "# y = 0o + 01x1 + 02x2  ==> y = a + bx1 + cx2\n",
    "\n",
    "\n",
    "import statistics\n",
    "\n",
    "x1mean = statistics.mean(df['X1'])\n",
    "x2mean = statistics.mean(df['X2'])\n",
    "ymean = statistics.mean(df['Y'])\n",
    "\n",
    "n, d = 0, 0\n",
    "for i in range(4):\n",
    "    n = n + (df['X1'][i] - x1mean)*(df['Y'][i] - ymean)\n",
    "    d = d + (df['X1'][i] - x1mean)**2\n",
    "\n",
    "b = n/d\n",
    "\n",
    "\n",
    "\n",
    "n1, d1 = 0, 0\n",
    "for i in range(4):\n",
    "    n1 = n1 + (df['X2'][i] - x2mean)*(df['Y'][i] - ymean)\n",
    "    d1 = d1 + (df['X2'][i] - x2mean)**2\n",
    "\n",
    "c = n1/d1\n",
    "\n",
    "\n",
    "a = ymean - b*x1mean - c*x2mean\n",
    "\n",
    "print('a=', a, 'b=', b, 'c=', c)\n",
    "\n",
    "# here a is 0o, b is 01, c is 02"
   ]
  },
  {
   "cell_type": "code",
   "execution_count": 19,
   "id": "8c2574a2",
   "metadata": {},
   "outputs": [
    {
     "name": "stdout",
     "output_type": "stream",
     "text": [
      "Intercept: \n",
      " 0.25\n",
      "Coefficients: \n",
      " [1.5 1. ]\n"
     ]
    }
   ],
   "source": [
    "# Estimating the coefficients using sklearn linear model\n",
    "\n",
    "\n",
    "from sklearn import linear_model\n",
    "\n",
    "X = df[['X1','X2']] # here we have 2 variables for multiple regression. If you just want to use one variable for simple linear regression, then use X = df['Interest_Rate'] for example.Alternatively, you may add additional variables within the brackets\n",
    "Y = df['Y']\n",
    " \n",
    "# with sklearn\n",
    "regr = linear_model.LinearRegression()\n",
    "regr.fit(X, Y)\n",
    "\n",
    "print('Intercept: \\n', regr.intercept_)\n",
    "print('Coefficients: \\n', regr.coef_)"
   ]
  },
  {
   "cell_type": "code",
   "execution_count": 34,
   "id": "4deba876",
   "metadata": {},
   "outputs": [
    {
     "data": {
      "text/plain": [
       "'\\n\\nObservations:\\n\\n1. first we have found the coefficients using least squares linear regression from scratch, and next we have used sklearn linear model \\n\\n\\n\\n'"
      ]
     },
     "execution_count": 34,
     "metadata": {},
     "output_type": "execute_result"
    }
   ],
   "source": [
    "'''\n",
    "\n",
    "Observations:\n",
    "\n",
    "1. first we have found the coefficients using least squares linear regression from scratch, and next we have used sklearn linear model\n",
    "   to find the values, and here we observed that the we got same values, this means sklearn linear model is using least squares linear regression \n",
    "   technique for finding best fit coeffiecents, this proves that least square linear regression technique finds the best fit line.\n",
    "\n",
    "\n",
    "'''"
   ]
  },
  {
   "cell_type": "code",
   "execution_count": null,
   "id": "8511aafc",
   "metadata": {},
   "outputs": [],
   "source": []
  }
 ],
 "metadata": {
  "kernelspec": {
   "display_name": "Python 3 (ipykernel)",
   "language": "python",
   "name": "python3"
  },
  "language_info": {
   "codemirror_mode": {
    "name": "ipython",
    "version": 3
   },
   "file_extension": ".py",
   "mimetype": "text/x-python",
   "name": "python",
   "nbconvert_exporter": "python",
   "pygments_lexer": "ipython3",
   "version": "3.10.4"
  }
 },
 "nbformat": 4,
 "nbformat_minor": 5
}
