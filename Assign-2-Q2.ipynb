{
 "cells": [
  {
   "cell_type": "code",
   "execution_count": 9,
   "id": "0faf9db6",
   "metadata": {},
   "outputs": [],
   "source": [
    "# contains positive and negative\n",
    "# row1 + , row2 -\n",
    "# column1 +, column2 -\n",
    "\n",
    "confusion_matrix = [[33, 1],\n",
    "                    [3, 72]]\n",
    "total = 109\n",
    "\n",
    "TP = 33\n",
    "TN = 72\n",
    "FP = 1\n",
    "FN = 3"
   ]
  },
  {
   "cell_type": "code",
   "execution_count": 10,
   "id": "67c1c7e3",
   "metadata": {},
   "outputs": [
    {
     "data": {
      "text/plain": [
       "'\\n1.\\n\\nfalse postives = 1\\nfasle negatives = 3\\n\\n2. \\n\\naccuracy = (TP + TN)/total = (33 + 72)/ 109 = 0.96\\n\\n3.\\n\\nprecision = TP/(TP + FP) = 0.970588235\\n\\nrecall =  TP/(TP + FN) = 0.916666667\\n\\n4.\\n\\nF1-score = 2*(precision * recall) / (precision + recall) = 2* 0.889705882/1.8872549 = 0.942857143\\n\\n\\n5.\\n\\nI would recommend having highest recall for this case\\n\\n'"
      ]
     },
     "execution_count": 10,
     "metadata": {},
     "output_type": "execute_result"
    }
   ],
   "source": [
    "'''\n",
    "1.\n",
    "\n",
    "false postives = 1\n",
    "fasle negatives = 3\n",
    "\n",
    "2. \n",
    "\n",
    "accuracy = (TP + TN)/total = (33 + 72)/ 109 = 0.96\n",
    "\n",
    "3.\n",
    "\n",
    "precision = TP/(TP + FP) = 0.970588235\n",
    "\n",
    "recall =  TP/(TP + FN) = 0.916666667\n",
    "\n",
    "4.\n",
    "\n",
    "F1-score = 2*(precision * recall) / (precision + recall) = 2* 0.889705882/1.8872549 = 0.942857143\n",
    "\n",
    "\n",
    "5.\n",
    "\n",
    "I would recommend having highest recall for this case\n",
    "\n",
    "'''"
   ]
  },
  {
   "cell_type": "code",
   "execution_count": 11,
   "id": "fcf4bc12",
   "metadata": {},
   "outputs": [
    {
     "data": {
      "text/plain": [
       "'\\n\\nAcknowledgements:\\n\\n\\n'"
      ]
     },
     "execution_count": 11,
     "metadata": {},
     "output_type": "execute_result"
    }
   ],
   "source": [
    "'''\n",
    "\n",
    "Acknowledgements:\n",
    "\n",
    "1. Referred GeeksforGeeks for understanding confusion-matrix, accuracy, precision, recall, and about F1-score.\n",
    "\n",
    "\n",
    "'''"
   ]
  }
 ],
 "metadata": {
  "kernelspec": {
   "display_name": "Python 3 (ipykernel)",
   "language": "python",
   "name": "python3"
  },
  "language_info": {
   "codemirror_mode": {
    "name": "ipython",
    "version": 3
   },
   "file_extension": ".py",
   "mimetype": "text/x-python",
   "name": "python",
   "nbconvert_exporter": "python",
   "pygments_lexer": "ipython3",
   "version": "3.10.5"
  }
 },
 "nbformat": 4,
 "nbformat_minor": 5
}
