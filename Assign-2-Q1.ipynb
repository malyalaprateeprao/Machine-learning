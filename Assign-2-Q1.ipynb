{
 "cells": [
  {
   "cell_type": "code",
   "execution_count": 17,
   "id": "2d89383c",
   "metadata": {},
   "outputs": [],
   "source": [
    "# features --> age, income, student, credit_rating\n",
    "# class --> buys_computer\n",
    "\n",
    "\n",
    "import numpy as np\n",
    "import pandas as pd\n",
    "import matplotlib.pyplot as plt \n",
    "import math"
   ]
  },
  {
   "cell_type": "code",
   "execution_count": 18,
   "id": "34b3bcd2",
   "metadata": {},
   "outputs": [],
   "source": [
    "data = pd.read_csv(\"data1.csv\")\n",
    "col_names = data.columns\n",
    "\n",
    "x = data.drop([data.columns[-1]], axis = 1)\n",
    "y = data[data.columns[-1]]"
   ]
  },
  {
   "cell_type": "code",
   "execution_count": 19,
   "id": "33ee70f3",
   "metadata": {},
   "outputs": [
    {
     "name": "stdout",
     "output_type": "stream",
     "text": [
      "prediction for (age = youth , income = medium, student = yes, credit_rating = fair), buys_computer:  ['yes']\n"
     ]
    }
   ],
   "source": [
    "class  NaiveBayes:\n",
    "    \n",
    "    def _init_(self):\n",
    "        \n",
    "        self.features = list\n",
    "        self.likelihoods = {}\n",
    "        self.class_priors = {}\n",
    "        self.pred_priors = {}\n",
    "        self.num_feats = int\n",
    "        self.x = np.array\n",
    "        self.y = np.array\n",
    "        self.size = int\n",
    "     \n",
    "    def fit(self, x, y):\n",
    "\n",
    "        self.features = list(x.columns)\n",
    "        self.x = x\n",
    "        self.y = y\n",
    "        self.size = x.shape[0]\n",
    "        self.num_feats = x.shape[1]\n",
    "        self.likelihoods = {}\n",
    "        self.pred_priors = {}\n",
    "        self.class_priors = {}\n",
    "\n",
    "        for feature in self.features:\n",
    "            self.likelihoods[feature] = {}\n",
    "            self.pred_priors[feature] = {}\n",
    "\n",
    "            for feat_val in np.unique(self.x[feature]):\n",
    "                self.pred_priors[feature].update({feat_val: 0})\n",
    "\n",
    "                for outcome in np.unique(self.y):\n",
    "                    self.likelihoods[feature].update({feat_val+'_'+outcome:0})\n",
    "                    self.class_priors.update({outcome: 0})\n",
    "\n",
    "        self._calc_class_prior()\n",
    "        self._calc_likelihoods()\n",
    "        self._calc_predictor_prior()\n",
    "\n",
    "\n",
    "    def _calc_class_prior(self):\n",
    "        \n",
    "        for outcome in np.unique(self.y):\n",
    "            outcome_count = sum(self.y == outcome)\n",
    "            self.class_priors[outcome] = outcome_count / self.size\n",
    "\n",
    "\n",
    "    def _calc_likelihoods(self):\n",
    "        \n",
    "        for feature in self.features:\n",
    "\n",
    "            for outcome in np.unique(self.y):\n",
    "                \n",
    "                outcome_count = sum(self.y == outcome)\n",
    "                feat_likelihood = self.x[feature][self.y[self.y == outcome].index.values.tolist()].value_counts().to_dict()\n",
    "\n",
    "            for feat_val, count in feat_likelihood.items():\n",
    "                self.likelihoods[feature][feat_val + '_' + outcome] = count/outcome_count\n",
    "\n",
    "\n",
    "    def _calc_predictor_prior(self):\n",
    "        \n",
    "        for feature in self.features:\n",
    "            feat_vals = self.x[feature].value_counts().to_dict()\n",
    "\n",
    "            for feat_val, count in feat_vals.items():\n",
    "                self.pred_priors[feature][feat_val] = count/self.size\n",
    "\n",
    "    def predict(self, x):\n",
    "        \n",
    "        #print('self.class_priors', self.class_priors)\n",
    "        #print('self.likelihoods', self.likelihoods)\n",
    "        #print('self.pred_priors' , self.pred_priors)\n",
    "\n",
    "        results = []\n",
    "        x = np.array(x)\n",
    "\n",
    "        for query in x:\n",
    "            \n",
    "            probs_outcome = {}\n",
    "            for outcome in np.unique(self.y):\n",
    "                prior = self.class_priors[outcome]\n",
    "                likelihood = 1\n",
    "                evidence = 1\n",
    "\n",
    "                for feat, feat_val in zip(self.features, query):\n",
    "                    \n",
    "                    likelihood *= self.likelihoods[feat][feat_val + '_' + outcome]\n",
    "                    evidence *= self.pred_priors[feat][feat_val]\n",
    "\n",
    "                posterior = (likelihood * prior) / (evidence)\n",
    "                \n",
    "                probs_outcome[outcome] = posterior\n",
    "\n",
    "            result = max(probs_outcome, key = lambda x: probs_outcome[x])\n",
    "            results.append(result)\n",
    "\n",
    "        return np.array(results)\n",
    "\n",
    "\n",
    "if __name__ == \"__main__\":\n",
    "    \n",
    "    \n",
    "    data = pd.read_csv(\"data1.csv\")\n",
    "    \n",
    "    x = data.drop([data.columns[-1]], axis = 1)\n",
    "    y = data[data.columns[-1]]\n",
    "    \n",
    "    clf = NaiveBayes()\n",
    "    clf.fit(x, y)\n",
    "\n",
    "    #print(\"Train Accuracy: {}\".format(accuracy_score(y, nb_clf.predict(X))))\n",
    "\n",
    "    query = np.array([['youth','medium', 'yes', 'fair']])\n",
    "    print(\"prediction for (age = youth , income = medium, student = yes, credit_rating = fair), buys_computer: \", clf.predict(query))\n"
   ]
  },
  {
   "cell_type": "code",
   "execution_count": 20,
   "id": "594c8110",
   "metadata": {},
   "outputs": [
    {
     "name": "stdout",
     "output_type": "stream",
     "text": [
      "prediction for (age = youth , income = medium, student = yes, credit_rating = fair), buys_computer:  [1]\n"
     ]
    },
    {
     "name": "stderr",
     "output_type": "stream",
     "text": [
      "C:\\Users\\malya\\AppData\\Local\\Packages\\PythonSoftwareFoundation.Python.3.10_qbz5n2kfra8p0\\LocalCache\\local-packages\\Python310\\site-packages\\sklearn\\utils\\validation.py:1107: DataConversionWarning: A column-vector y was passed when a 1d array was expected. Please change the shape of y to (n_samples, ), for example using ravel().\n",
      "  y = column_or_1d(y, warn=True)\n"
     ]
    }
   ],
   "source": [
    "#from inbuilt library\n",
    "\n",
    "from sklearn.datasets import load_iris\n",
    "from sklearn.model_selection import train_test_split\n",
    "from sklearn.naive_bayes import GaussianNB\n",
    "from sklearn import preprocessing\n",
    "\n",
    "le = preprocessing.LabelEncoder()\n",
    "\n",
    "# Converting string labels into numbers\n",
    "age = le.fit_transform(x['age'].tolist())\n",
    "income = le.fit_transform(x['income'].tolist())\n",
    "student = le.fit_transform(x['student'].tolist())\n",
    "credit_rating = le.fit_transform(x['credit_rating'].tolist())\n",
    "buys_computer = le.fit_transform(y)\n",
    "\n",
    "x11 = pd.DataFrame(zip(age, income, student, credit_rating))\n",
    "y11 = pd.DataFrame(buys_computer)\n",
    "\n",
    "query = np.array([[2, 2, 1, 1]])\n",
    "\n",
    "gnb = GaussianNB()\n",
    "y_pred = gnb.fit(x11, y11).predict(query)\n",
    "\n",
    "print(\"prediction for (age = youth , income = medium, student = yes, credit_rating = fair), buys_computer: \", y_pred) # 1 -> yes , 0 -> no"
   ]
  },
  {
   "cell_type": "code",
   "execution_count": 21,
   "id": "b4115526",
   "metadata": {},
   "outputs": [
    {
     "data": {
      "text/plain": [
       "'\\n\\nAcknowledgements\\n\\n1. refered https://medium.com/@rangavamsi5/na%C3%AFve-bayes-algorithm-implementation-from-scratch-in-python-7b2cc39268b9 for understanding\\n2. I also tried validate my results using inbuilt library and both the prediction is correct.\\n'"
      ]
     },
     "execution_count": 21,
     "metadata": {},
     "output_type": "execute_result"
    }
   ],
   "source": [
    "'''\n",
    "\n",
    "Acknowledgements\n",
    "\n",
    "1. refered https://medium.com/@rangavamsi5/na%C3%AFve-bayes-algorithm-implementation-from-scratch-in-python-7b2cc39268b9 for understanding\n",
    "   how to form the class, how to divide logics into differet functions.\n",
    "2. I also tried validate my results using inbuilt library and both the prediction is correct.\n",
    "3. here i learned how to use different python inbuilt functionalities for doing different operations.\n",
    "'''"
   ]
  },
  {
   "cell_type": "code",
   "execution_count": null,
   "id": "21ab7acf",
   "metadata": {},
   "outputs": [],
   "source": []
  },
  {
   "cell_type": "code",
   "execution_count": null,
   "id": "a30ec7de",
   "metadata": {},
   "outputs": [],
   "source": []
  }
 ],
 "metadata": {
  "kernelspec": {
   "display_name": "Python 3 (ipykernel)",
   "language": "python",
   "name": "python3"
  },
  "language_info": {
   "codemirror_mode": {
    "name": "ipython",
    "version": 3
   },
   "file_extension": ".py",
   "mimetype": "text/x-python",
   "name": "python",
   "nbconvert_exporter": "python",
   "pygments_lexer": "ipython3",
   "version": "3.10.5"
  }
 },
 "nbformat": 4,
 "nbformat_minor": 5
}
